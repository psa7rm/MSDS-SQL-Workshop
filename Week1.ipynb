{
 "cells": [
  {
   "cell_type": "markdown",
   "id": "c59c6f32",
   "metadata": {},
   "source": [
    "<h1>SQL Powwow: Meeting One</h1>"
   ]
  },
  {
   "cell_type": "markdown",
   "id": "999656b7",
   "metadata": {},
   "source": [
    "<h2>What did we do?</h2>"
   ]
  },
  {
   "cell_type": "markdown",
   "id": "11bfcfa3",
   "metadata": {},
   "source": [
    "<ul>\n",
    "    <li>We installed MySQL on our individual computers.</li>\n",
    "    <li>From <a href='https://en.wikipedia.org/wiki/MySQL'>Wikipedia</a>:\n",
    "        <ul>\n",
    "            <li><b>MySQL</b> is an open-source relational database management system (RDBMS).</li>\n",
    "            <li><b>SQL</b> means Structured Query Language.</li>\n",
    "            <li><b>Relational Database</b> is a way to relate different sets of structured data.</li>\n",
    "        </ul>\n",
    "    </li>\n",
    "</ul>"
   ]
  },
  {
   "cell_type": "markdown",
   "id": "fe2d8992",
   "metadata": {},
   "source": [
    "<h2>Why did we do that?</h2>"
   ]
  },
  {
   "cell_type": "markdown",
   "id": "ea9dcd9a",
   "metadata": {},
   "source": [
    "<li>Wake up! You Can't do MySQL without MySQL.</li>"
   ]
  },
  {
   "cell_type": "markdown",
   "id": "98ed384f",
   "metadata": {},
   "source": [
    "<h2>How tf did we do that? [Conceptual]</h2>"
   ]
  },
  {
   "cell_type": "markdown",
   "id": "047ff7bd",
   "metadata": {},
   "source": [
    "<ul>\n",
    "    <li><s>ChatGPT.</s></li>\n",
    "    <li>\n",
    "        Five steps.\n",
    "        <ol>\n",
    "            <li>Download MySQL</li>\n",
    "            <li>Install MySQL</li>\n",
    "            <li>Configure MySQL</li>\n",
    "            <li>Start MySQL</li>\n",
    "            <li>Connect to MySQL</li>\n",
    "        </ol>\n",
    "    </li>\n",
    "</ul>\n",
    "\n",
    "<ul>\n",
    "    <li>\n",
    "        The actual implementation you use can vary depending upon things like:\n",
    "        <ul>\n",
    "            <li>Your operating system (and/or poss its version).</li>\n",
    "            <li>The specific method employed at each step.</li>\n",
    "            <li>Random bugs encountered (basically inevitable).</li>\n",
    "        </ul>\n",
    "    </li>\n",
    "</ul>\n",
    "\n",
    "<ul>\n",
    "    <li>We actually did this already in Kropko's class over the summer.\n",
    "        <ul>\n",
    "            <li>Most people remember this class as an unentertaining circus act comprised of:\n",
    "                <ul>\n",
    "                    <li>Copying/pasting indecipherable errors into chatgpt.</li>\n",
    "                    <li>Copying/pasting chat's code into computer.</li>\n",
    "                    <li>Coping/pasting errors produced from chat's buggy code back into chat.</li>\n",
    "                    <li>Praying that Kropko helps you next among the sea of raised hands.</li>\n",
    "                </ul>\n",
    "        </ul>\n",
    "    </li>\n",
    "</ul>\n",
    "\n",
    "<ul>\n",
    "    <li>\n",
    "        Inexplicably, although we did this over the summer, it stopped working. Ergo, we needed to uninstall and then re-install MySQL from scratch.\n",
    "    </li>\n",
    "</ul>"
   ]
  },
  {
   "cell_type": "markdown",
   "id": "dd55838d",
   "metadata": {},
   "source": [
    "<h2>How tf...? [MacOS Terminal with <a href='https://en.wikipedia.org/wiki/Homebrew_(package_manager)'>Homebrew</a>]</h2"
   ]
  },
  {
   "cell_type": "markdown",
   "id": "32000b2b",
   "metadata": {},
   "source": [
    "<h3>Background</h3>\n",
    "<ul>\n",
    "    <li>\n",
    "        <b>Homebrew</b> is a <a href='https://en.wikipedia.org/wiki/Package_manager'>package manager</a> for MacOS.\n",
    "    </li>\n",
    "</ul>\n",
    "<ul> \n",
    "    <li>A <b>Package Manager</b> solves the following dilemma:</li>\n",
    "    <ul>\n",
    "        <li>I'm working from within the terminal command-line interface.</li>\n",
    "        <li>I need to make my computer do something.</li>\n",
    "        <li>There isn't a simple command or function to do that, and idk how to interpret chatgpt's ideas.</li>\n",
    "        <li>I'm too lazy/stupid to figure it out.</li>\n",
    "    </ul>\n",
    "    <li>Package manager is basically a command that install a command to \"do something\".</li>\n",
    "    <li>From the <a href='https://brew.sh/'>horse's mouth:</a></li>\n",
    "    <ul> <li>\"Homebrew installs the stuff you need that Apple (or your Linux system) didn’t.\"</li> </ul>\n",
    "</ul>"
   ]
  },
  {
   "cell_type": "markdown",
   "id": "da714e0e",
   "metadata": {},
   "source": [
    "<h2>Drama</h2>"
   ]
  },
  {
   "cell_type": "markdown",
   "id": "d0c07e7a",
   "metadata": {},
   "source": [
    "<h3>ISSUE <span style='font-size:12pt; font-weight:lighter'>MySQL server cannot start because the unix connection socket is already in use</span></h3>"
   ]
  },
  {
   "cell_type": "markdown",
   "id": "998db317",
   "metadata": {},
   "source": [
    "<ul>\n",
    "    <li>MySQL defines the unix socket connection to the relational database via a <b>socket file</b> (/tmp/mysql.sock).</li>\n",
    "    <li>Unix sockets are specified/indexed by an integer value in the mysql.sock file.</li>\n",
    "    <li>When you download/update/install garb onto your computer, this socket value is liable to change in the process.</li>\n",
    "        <li>If MySQL's socket value changes, and you don't let MySQL know about this change (by editing its configuration file), then MySQL will tell you to go fuck yourself when you attempt to connect to the database server.</li>\n",
    "    <ul> <li>In MySQL, 'fuck off' = <b>ERROR 2002 (HY000)</b>.</li> </ul>\n",
    "</ul>"
   ]
  },
  {
   "cell_type": "markdown",
   "id": "3ac43678",
   "metadata": {},
   "source": [
    "<h2>Miscellaneous</h2>"
   ]
  },
  {
   "cell_type": "code",
   "execution_count": 8,
   "id": "31597e7b",
   "metadata": {},
   "outputs": [
    {
     "name": "stdout",
     "output_type": "stream",
     "text": [
      "/opt/homebrew/opt/mysql\r\n"
     ]
    }
   ],
   "source": [
    "# Bash command to get the directory path where homebrew installed the mysql garb\n",
    "! echo $(brew --prefix mysql);"
   ]
  },
  {
   "cell_type": "code",
   "execution_count": null,
   "id": "2d7162ca",
   "metadata": {},
   "outputs": [],
   "source": []
  }
 ],
 "metadata": {
  "kernelspec": {
   "display_name": "Python 3 (ipykernel)",
   "language": "python",
   "name": "python3"
  },
  "language_info": {
   "codemirror_mode": {
    "name": "ipython",
    "version": 3
   },
   "file_extension": ".py",
   "mimetype": "text/x-python",
   "name": "python",
   "nbconvert_exporter": "python",
   "pygments_lexer": "ipython3",
   "version": "3.10.12"
  }
 },
 "nbformat": 4,
 "nbformat_minor": 5
}
