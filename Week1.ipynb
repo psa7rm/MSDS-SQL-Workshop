{
 "cells": [
  {
   "cell_type": "markdown",
   "id": "c59c6f32",
   "metadata": {},
   "source": [
    "<h1>SQL Powwow: Meeting One</h1>"
   ]
  },
  {
   "cell_type": "markdown",
   "id": "999656b7",
   "metadata": {},
   "source": [
    "<h2>What did we do?</h2>"
   ]
  },
  {
   "cell_type": "markdown",
   "id": "11bfcfa3",
   "metadata": {},
   "source": [
    "<ul>\n",
    "    <li>We installed MySQL on our individual computers.</li>\n",
    "    <li>From <a href='https://en.wikipedia.org/wiki/MySQL'>Wikipedia</a>:\n",
    "        <ul>\n",
    "            <li><b>MySQL</b> is an open-source relational database management system (RDBMS).</li>\n",
    "            <li><b>SQL</b> means Structured Query Language.</li>\n",
    "            <li><b>Relational Database</b> is a way to relate different sets of structured data.</li>\n",
    "        </ul>\n",
    "    </li>\n",
    "</ul>"
   ]
  },
  {
   "cell_type": "markdown",
   "id": "fe2d8992",
   "metadata": {},
   "source": [
    "<h2>Why did we do that?</h2>"
   ]
  },
  {
   "cell_type": "markdown",
   "id": "ea9dcd9a",
   "metadata": {},
   "source": [
    "<li>Wake up! You Can't do MySQL without MySQL.</li>"
   ]
  },
  {
   "cell_type": "markdown",
   "id": "98ed384f",
   "metadata": {},
   "source": [
    "<h2>How tf did we do that? [Conceptual]</h2>"
   ]
  },
  {
   "cell_type": "markdown",
   "id": "047ff7bd",
   "metadata": {},
   "source": [
    "<ul>\n",
    "    <li><s>ChatGPT.</s></li>\n",
    "    <li>\n",
    "        Five steps.\n",
    "        <ol>\n",
    "            <li>Download MySQL</li>\n",
    "            <li>Install MySQL</li>\n",
    "            <li>Configure MySQL</li>\n",
    "            <li>Start MySQL</li>\n",
    "            <li>Connect to MySQL</li>\n",
    "        </ol>\n",
    "    </li>\n",
    "</ul>\n",
    "\n",
    "<ul>\n",
    "    <li>\n",
    "        The actual implementation you use can vary depending upon things like:\n",
    "        <ul>\n",
    "            <li>Your operating system (and/or poss its version).</li>\n",
    "            <li>The specific method employed at each step.</li>\n",
    "            <li>Random bugs encountered (basically inevitable).</li>\n",
    "        </ul>\n",
    "    </li>\n",
    "</ul>\n",
    "\n",
    "<ul>\n",
    "    <li>We actually did this already in Kropko's class over the summer.\n",
    "        <ul>\n",
    "            <li>Most people remember this class as an unentertaining circus act comprised of:\n",
    "                <ul>\n",
    "                    <li>Copying/pasting indecipherable errors into chatgpt.</li>\n",
    "                    <li>Copying/pasting chat's code into computer.</li>\n",
    "                    <li>Coping/pasting errors produced from chat's buggy code back into chat.</li>\n",
    "                    <li>Praying that Kropko helps you next among the sea of raised hands.</li>\n",
    "                </ul>\n",
    "        </ul>\n",
    "    </li>\n",
    "</ul>\n",
    "\n",
    "<ul>\n",
    "    <li>\n",
    "        Inexplicably, although we did this over the summer, it stopped working. Ergo, we needed to uninstall and then re-install MySQL from scratch.\n",
    "    </li>\n",
    "</ul>"
   ]
  },
  {
   "cell_type": "markdown",
   "id": "dd55838d",
   "metadata": {},
   "source": [
    "<h2>How tf...? [MacOS Terminal with <a href='https://en.wikipedia.org/wiki/Homebrew_(package_manager)'>Homebrew</a>]</h2"
   ]
  },
  {
   "cell_type": "markdown",
   "id": "32000b2b",
   "metadata": {},
   "source": [
    "<h3>Background - What is Homebrew?</h3>\n",
    "<ul>\n",
    "    <li>\n",
    "        <b>Homebrew</b> is a <a href='https://en.wikipedia.org/wiki/Package_manager'>package manager</a> for MacOS.\n",
    "    </li>\n",
    "</ul>\n",
    "<ul> \n",
    "    <li>A <b>Package Manager</b> solves the following dilemma:</li>\n",
    "    <ul>\n",
    "        <li>I'm working from within the terminal command-line interface.</li>\n",
    "        <li>I need to make my computer do something.</li>\n",
    "        <li>There isn't a simple command or function to do that, and idk how to interpret chatgpt's ideas.</li>\n",
    "        <li>I'm too lazy/stupid to figure it out.</li>\n",
    "    </ul>\n",
    "    <li>Package manager is basically a command that install a command to \"do something\".</li>\n",
    "    <li>From the <a href='https://brew.sh/'>horse's mouth:</a></li>\n",
    "    <ul> <li>\"Homebrew installs the stuff you need that Apple (or your Linux system) didn’t.\"</li> </ul>\n",
    "</ul>"
   ]
  },
  {
   "cell_type": "markdown",
   "id": "3c389944",
   "metadata": {},
   "source": [
    "<h3>Install Homebrew Package Manager</h3>"
   ]
  },
  {
   "cell_type": "markdown",
   "id": "f9f94bda",
   "metadata": {},
   "source": [
    "An easy way to see if an application is installed is to check its version. We call the `brew` command to use Homebrew.\n",
    "\n",
    "If this command returns 'Homebrew X.Y.Z', then you're good."
   ]
  },
  {
   "cell_type": "code",
   "execution_count": 5,
   "id": "d0dc039e",
   "metadata": {},
   "outputs": [
    {
     "name": "stdout",
     "output_type": "stream",
     "text": [
      "Homebrew 4.2.6\r\n"
     ]
    }
   ],
   "source": [
    "! brew --version"
   ]
  },
  {
   "cell_type": "markdown",
   "id": "53098302",
   "metadata": {},
   "source": [
    "If the command returned something like `command not found: brew`, you need to install Homebrew first.\n",
    "<ul>\n",
    "    <li>open the Terminal application on your computer</li>\n",
    "    <li>go here: <a href='https://brew.sh/'>https://brew.sh/</a></li>\n",
    "    <li>copy+paste+execute the funny looking command displayed on the homepage in your terminal</li>\n",
    "</ul>"
   ]
  },
  {
   "cell_type": "markdown",
   "id": "928cc914",
   "metadata": {},
   "source": [
    "<h3>Check if MySQL Already Downloaded</h3>"
   ]
  },
  {
   "cell_type": "markdown",
   "id": "2722e8cc",
   "metadata": {},
   "source": [
    "We use Homebrew to manage (start, stop, restart) <b>services</b>.\n",
    "\n",
    "<p>A service is a piece of software that runs in the background on your computer. Normally, you don't interact with it directly, but you need it up and running all the same. In nerd jargon, these are known as (Matt) <a href='https://en.wikipedia.org/wiki/Daemon_(computing)'>daemon</a> programs.</p>\n",
    "\n",
    "<p>Run the following command to view the services that currently exist. Keep your eyes peeled for `mysql` under the `Name` column.<p>"
   ]
  },
  {
   "cell_type": "code",
   "execution_count": 6,
   "id": "8bf92d18",
   "metadata": {},
   "outputs": [
    {
     "name": "stdout",
     "output_type": "stream",
     "text": [
      "\u001b[1mName              Status  User     File\u001b[0m\r\n",
      "black             \u001b[39mnone\u001b[0m             \r\n",
      "dbus              \u001b[39mstopped\u001b[0m thammons ~/Library/LaunchAgents/org.freedesktop.dbus-session.plist\r\n",
      "mongodb-community \u001b[39mnone\u001b[0m             \r\n",
      "mysql             \u001b[39mnone\u001b[0m             \r\n",
      "php               \u001b[39mnone\u001b[0m             \r\n",
      "unbound           \u001b[39mnone\u001b[0m             \r\n"
     ]
    }
   ],
   "source": [
    "! brew services list"
   ]
  },
  {
   "cell_type": "markdown",
   "id": "d165d909",
   "metadata": {},
   "source": [
    "A fancier way to \"keep your eyes peeled for mysql\" is to append `| grep mysql` to the end of the last command. This can be usefully added to a lot of different terminal commands. You can ask chatgpt to explain it."
   ]
  },
  {
   "cell_type": "code",
   "execution_count": 7,
   "id": "69e67ed0",
   "metadata": {},
   "outputs": [
    {
     "name": "stdout",
     "output_type": "stream",
     "text": [
      "mysql             none                     \r\n"
     ]
    }
   ],
   "source": [
    "! brew services list | grep mysql"
   ]
  },
  {
   "cell_type": "markdown",
   "id": "a55fa1dc",
   "metadata": {},
   "source": [
    "<h3>Install Mysql with Homebrew</h3>"
   ]
  },
  {
   "cell_type": "markdown",
   "id": "0cae67a1",
   "metadata": {},
   "source": [
    "If `mysql` did not appear after running `brew services list`, install `mysql` with this command:"
   ]
  },
  {
   "cell_type": "code",
   "execution_count": 8,
   "id": "2fb7f364",
   "metadata": {},
   "outputs": [
    {
     "name": "stdout",
     "output_type": "stream",
     "text": [
      "mysql 8.2.0_1 is already installed but outdated (so it will be upgraded).\n",
      "\u001b[34m==>\u001b[0m \u001b[1mDownloading https://ghcr.io/v2/homebrew/core/mysql/manifests/8.3.0\u001b[0m\n",
      "######################################################################### 100.0%\n",
      "\u001b[32m==>\u001b[0m \u001b[1mFetching dependencies for mysql: \u001b[32mzlib\u001b[39m\u001b[0m\n",
      "\u001b[34m==>\u001b[0m \u001b[1mDownloading https://ghcr.io/v2/homebrew/core/zlib/manifests/1.3.1\u001b[0m\n",
      "######################################################################### 100.0%\n",
      "\u001b[32m==>\u001b[0m \u001b[1mFetching \u001b[32mzlib\u001b[39m\u001b[0m\n",
      "\u001b[34m==>\u001b[0m \u001b[1mDownloading https://ghcr.io/v2/homebrew/core/zlib/blobs/sha256:ebf10e203575b\u001b[0m\n",
      "######################################################################### 100.0%\n",
      "\u001b[32m==>\u001b[0m \u001b[1mFetching \u001b[32mmysql\u001b[39m\u001b[0m\n",
      "\u001b[34m==>\u001b[0m \u001b[1mDownloading https://ghcr.io/v2/homebrew/core/mysql/blobs/sha256:db4c782d5bac\u001b[0m\n",
      "######################################################################### 100.0%\n",
      "\u001b[32m==>\u001b[0m \u001b[1mUpgrading \u001b[32mmysql\u001b[39m\n",
      "  8.2.0_1 -> 8.3.0 \n",
      "\u001b[0m\n",
      "\u001b[32m==>\u001b[0m \u001b[1mInstalling dependencies for mysql: \u001b[32mzlib\u001b[39m\u001b[0m\n",
      "\u001b[32m==>\u001b[0m \u001b[1mInstalling mysql dependency: \u001b[32mzlib\u001b[39m\u001b[0m\n",
      "\u001b[34m==>\u001b[0m \u001b[1mDownloading https://ghcr.io/v2/homebrew/core/zlib/manifests/1.3.1\u001b[0m\n",
      "Already downloaded: /Users/thammons/Library/Caches/Homebrew/downloads/f68d0caf232d52f2aa586abefbbfd7e958e384d84f3967008fa83de94b5f10ae--zlib-1.3.1.bottle_manifest.json\n",
      "\u001b[34m==>\u001b[0m \u001b[1mPouring zlib--1.3.1.arm64_monterey.bottle.tar.gz\u001b[0m\n",
      "🍺  /opt/homebrew/Cellar/zlib/1.3.1: 13 files, 399.8KB\n",
      "\u001b[32m==>\u001b[0m \u001b[1mInstalling \u001b[32mmysql\u001b[39m\u001b[0m\n",
      "\u001b[34m==>\u001b[0m \u001b[1mPouring mysql--8.3.0.arm64_monterey.bottle.tar.gz\u001b[0m\n",
      "\u001b[34m==>\u001b[0m \u001b[1mCaveats\u001b[0m\n",
      "We've installed your MySQL database without a root password. To secure it run:\n",
      "    mysql_secure_installation\n",
      "\n",
      "MySQL is configured to only allow connections from localhost by default\n",
      "\n",
      "To connect run:\n",
      "    mysql -u root\n",
      "\n",
      "To start mysql now and restart at login:\n",
      "  brew services start mysql\n",
      "Or, if you don't want/need a background service you can just run:\n",
      "  /opt/homebrew/opt/mysql/bin/mysqld_safe --datadir\\=/opt/homebrew/var/mysql\n",
      "\u001b[34m==>\u001b[0m \u001b[1mSummary\u001b[0m\n",
      "🍺  /opt/homebrew/Cellar/mysql/8.3.0: 323 files, 309.4MB\n",
      "\u001b[34m==>\u001b[0m \u001b[1mRunning `brew cleanup mysql`...\u001b[0m\n",
      "Disable this behaviour by setting HOMEBREW_NO_INSTALL_CLEANUP.\n",
      "Hide these hints with HOMEBREW_NO_ENV_HINTS (see `man brew`).\n",
      "Removing: /opt/homebrew/Cellar/mysql/8.2.0_1... (326 files, 308.7MB)\n",
      "Removing: /Users/thammons/Library/Caches/Homebrew/mysql--8.2.0_1... (81.3MB)\n",
      "\u001b[32m==>\u001b[0m \u001b[1mCaveats\u001b[0m\n",
      "\u001b[34m==>\u001b[0m \u001b[1mmysql\u001b[0m\n",
      "We've installed your MySQL database without a root password. To secure it run:\n",
      "    mysql_secure_installation\n",
      "\n",
      "MySQL is configured to only allow connections from localhost by default\n",
      "\n",
      "To connect run:\n",
      "    mysql -u root\n",
      "\n",
      "To start mysql now and restart at login:\n",
      "  brew services start mysql\n",
      "Or, if you don't want/need a background service you can just run:\n",
      "  /opt/homebrew/opt/mysql/bin/mysqld_safe --datadir\\=/opt/homebrew/var/mysql\n"
     ]
    }
   ],
   "source": [
    "! brew install mysql"
   ]
  },
  {
   "cell_type": "markdown",
   "id": "e1cc285e",
   "metadata": {},
   "source": [
    "<h3>Start MySQL</h3>"
   ]
  },
  {
   "cell_type": "markdown",
   "id": "36fb3fd8",
   "metadata": {},
   "source": [
    "At a basic level, MySQL is a program that you need to \"connect to\". This involves a couple steps:\n",
    "<ol>\n",
    "    <li>Use Homebrew to start the `mysql` service</li>\n",
    "    <li>Run the `mysql` command to make your terminal go into \"sql-mode\"</li>\n",
    "    <li>Specify login credentials (e.g. username and password)</li>\n",
    "</ol>"
   ]
  },
  {
   "cell_type": "markdown",
   "id": "d69c78ce",
   "metadata": {},
   "source": [
    "You need to execute steps 2/3 in the Terminal. You can copy+paste them from below. If you try to run them in a jupyter notebook, it won't work."
   ]
  },
  {
   "cell_type": "code",
   "execution_count": 25,
   "id": "80287b15",
   "metadata": {},
   "outputs": [
    {
     "name": "stdout",
     "output_type": "stream",
     "text": [
      "\u001b[34m==>\u001b[0m \u001b[1mSuccessfully started `mysql` (label: homebrew.mxcl.mysql)\u001b[0m\r\n"
     ]
    }
   ],
   "source": [
    "# 1. Use homebrew to start mysql\n",
    "! brew services start mysql"
   ]
  },
  {
   "cell_type": "code",
   "execution_count": null,
   "id": "975e75cf",
   "metadata": {},
   "outputs": [],
   "source": [
    "# 2/3. Run mysql and provide credentials\n",
    "#\n",
    "# Copy + paste the below command into the Terminal. After hitting enter, you'll be prompted for a password.\n",
    "# Note: usually, the terminal will not display password characters when you enter them.\n",
    "# -u root = login as root user\n",
    "# -p = imma gonna use a password\n",
    "\n",
    "mysql -u root -p\n"
   ]
  },
  {
   "cell_type": "markdown",
   "id": "c8b43e23",
   "metadata": {},
   "source": [
    "<h3>Successful Login</h3>"
   ]
  },
  {
   "cell_type": "markdown",
   "id": "2c86eecd",
   "metadata": {},
   "source": [
    "<p>If everything went smoothly, you'll see something that looks like this:</p>"
   ]
  },
  {
   "cell_type": "markdown",
   "id": "932c758d",
   "metadata": {},
   "source": [
    "```\n",
    "thammons@toms-MacBook-Air MSDS-SQL-Workshop % mysql -u root -p\n",
    "Enter password: \n",
    "Welcome to the MySQL monitor.  Commands end with ; or \\g.\n",
    "Your MySQL connection id is 8\n",
    "Server version: 8.3.0 Homebrew\n",
    "\n",
    "Copyright (c) 2000, 2024, Oracle and/or its affiliates.\n",
    "\n",
    "Oracle is a registered trademark of Oracle Corporation and/or its\n",
    "affiliates. Other names may be trademarks of their respective\n",
    "owners.\n",
    "\n",
    "Type 'help;' or '\\h' for help. Type '\\c' to clear the current input statement.\n",
    "\n",
    "mysql> \n",
    "```"
   ]
  },
  {
   "cell_type": "markdown",
   "id": "da714e0e",
   "metadata": {},
   "source": [
    "<h2>Drama</h2>"
   ]
  },
  {
   "cell_type": "markdown",
   "id": "d0c07e7a",
   "metadata": {},
   "source": [
    "<h3>ISSUE <span style='font-size:12pt; font-weight:lighter'>MySQL server cannot start because the unix connection socket is already in use</span></h3>"
   ]
  },
  {
   "cell_type": "markdown",
   "id": "998db317",
   "metadata": {},
   "source": [
    "<ul>\n",
    "    <li>MySQL defines the unix socket connection to the relational database via a <b>socket file</b> (/tmp/mysql.sock).</li>\n",
    "    <li>Unix sockets are specified/indexed by an integer value in the mysql.sock file.</li>\n",
    "    <li>When you download/update/install garb onto your computer, this socket value is liable to change in the process.</li>\n",
    "        <li>If MySQL's socket value changes, and you don't let MySQL know about this change (by editing its configuration file), then MySQL will tell you to go fuck yourself when you attempt to connect to the database server.</li>\n",
    "    <ul> <li>In MySQL, 'fuck off' = <b>ERROR 2002 (HY000)</b>.</li> </ul>\n",
    "</ul>"
   ]
  },
  {
   "cell_type": "markdown",
   "id": "cb92c377",
   "metadata": {},
   "source": [
    "<h3>ISSUE\n",
    "    <span style='font-size:12pt; font-weight:lighter'>Access denied for user 'root'@'localhost' (using password: YES/NO)</span>\n",
    "</h3>"
   ]
  },
  {
   "cell_type": "markdown",
   "id": "ac55b5d1",
   "metadata": {},
   "source": [
    "<ol>\n",
    "    <li>Check ya spellin.</li>\n",
    "    <li>\n",
    "        If you encounter this error right after downloading mysql, you need to find the default temporary password assigned to the `root` user and use this to log in initially.\n",
    "    </li>\n",
    "    <ul>\n",
    "        <li>\n",
    "            This password gets printed to a MySQL <a href='https://en.wikipedia.org/wiki/Logging_(computing)'>Error Log</a> on your computer.\n",
    "        </li>\n",
    "        <li>To get the password, we need to print the contents of the error log and then identify a line that makes reference to a temporary password. It's something like, \"A temporary password is generated for root@localhost: [password]\".\n",
    "    </ul>\n",
    "        \n",
    "</ol>\n",
    "\n"
   ]
  },
  {
   "cell_type": "code",
   "execution_count": 19,
   "id": "e94936db",
   "metadata": {
    "scrolled": true
   },
   "outputs": [
    {
     "name": "stdout",
     "output_type": "stream",
     "text": [
      "toms-MacBook-Air.local.err\r\n"
     ]
    }
   ],
   "source": [
    "# Check that the error log exists by listing files in the 'mysql error log directory' and filtering for the error log.\n",
    "# Its format should be something like: your_computer_user_name.err\n",
    "# If this returns nothing, you can stop because you're screwed.\n",
    "\n",
    "! ls /opt/homebrew/var/mysql | grep $(hostname).err"
   ]
  },
  {
   "cell_type": "code",
   "execution_count": 21,
   "id": "5a8bf61a",
   "metadata": {},
   "outputs": [],
   "source": [
    "# Print the contents of the error log and filter for lines that contain the keyword 'password'\n",
    "# Copy the password value and paste into the mysql password prompt when you log in\n",
    "\n",
    "! cat /opt/homebrew/var/mysql/$(hostname).err | grep password"
   ]
  },
  {
   "cell_type": "markdown",
   "id": "3ac43678",
   "metadata": {},
   "source": [
    "<h2>Miscellaneous</h2>"
   ]
  },
  {
   "cell_type": "code",
   "execution_count": 8,
   "id": "31597e7b",
   "metadata": {},
   "outputs": [
    {
     "name": "stdout",
     "output_type": "stream",
     "text": [
      "/opt/homebrew/opt/mysql\r\n"
     ]
    }
   ],
   "source": [
    "# Bash command to get the directory path where homebrew installed the mysql garb\n",
    "! echo $(brew --prefix mysql);"
   ]
  },
  {
   "cell_type": "code",
   "execution_count": 23,
   "id": "2d7162ca",
   "metadata": {},
   "outputs": [
    {
     "name": "stdout",
     "output_type": "stream",
     "text": [
      "/opt/homebrew/bin/jupyter\n",
      "/opt/homebrew/bin/mysql\n"
     ]
    }
   ],
   "source": [
    "# which: bash command to locate where a program saves relevant files on your computer\n",
    "# examples for jupyter and mysql\n",
    "! which jupyter\n",
    "! which mysql"
   ]
  },
  {
   "cell_type": "code",
   "execution_count": null,
   "id": "d146f0b3",
   "metadata": {},
   "outputs": [],
   "source": []
  }
 ],
 "metadata": {
  "kernelspec": {
   "display_name": "Python 3 (ipykernel)",
   "language": "python",
   "name": "python3"
  },
  "language_info": {
   "codemirror_mode": {
    "name": "ipython",
    "version": 3
   },
   "file_extension": ".py",
   "mimetype": "text/x-python",
   "name": "python",
   "nbconvert_exporter": "python",
   "pygments_lexer": "ipython3",
   "version": "3.10.12"
  }
 },
 "nbformat": 4,
 "nbformat_minor": 5
}
